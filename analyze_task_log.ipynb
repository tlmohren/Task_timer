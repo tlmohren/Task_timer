{
 "cells": [
  {
   "cell_type": "code",
   "execution_count": 1,
   "metadata": {},
   "outputs": [],
   "source": [
    "import numpy as np\n",
    "import pandas as pd\n",
    "import datetime\n",
    "import glob\n",
    "import os\n",
    " \n",
    "from matplotlib.colors import ListedColormap\n",
    "\n",
    "import matplotlib.pyplot as plt\n",
    "import matplotlib.dates \n",
    "from matplotlib.ticker import MultipleLocator, FuncFormatter, NullFormatter\n",
    "from matplotlib.dates import MonthLocator, WeekdayLocator, DateFormatter"
   ]
  },
  {
   "cell_type": "markdown",
   "metadata": {},
   "source": [
    "# Import data "
   ]
  },
  {
   "cell_type": "code",
   "execution_count": 2,
   "metadata": {},
   "outputs": [
    {
     "data": {
      "text/html": [
       "<div>\n",
       "<style scoped>\n",
       "    .dataframe tbody tr th:only-of-type {\n",
       "        vertical-align: middle;\n",
       "    }\n",
       "\n",
       "    .dataframe tbody tr th {\n",
       "        vertical-align: top;\n",
       "    }\n",
       "\n",
       "    .dataframe thead th {\n",
       "        text-align: right;\n",
       "    }\n",
       "</style>\n",
       "<table border=\"1\" class=\"dataframe\">\n",
       "  <thead>\n",
       "    <tr style=\"text-align: right;\">\n",
       "      <th></th>\n",
       "      <th>date</th>\n",
       "      <th>start time</th>\n",
       "      <th>Task</th>\n",
       "      <th>Label</th>\n",
       "      <th>Duration (s)</th>\n",
       "    </tr>\n",
       "  </thead>\n",
       "  <tbody>\n",
       "    <tr>\n",
       "      <th>60</th>\n",
       "      <td>2020/04/15</td>\n",
       "      <td>14:07:47</td>\n",
       "      <td>Learn package making pypend</td>\n",
       "      <td>Coding study</td>\n",
       "      <td>1500</td>\n",
       "    </tr>\n",
       "    <tr>\n",
       "      <th>61</th>\n",
       "      <td>2020/04/15</td>\n",
       "      <td>14:32:48</td>\n",
       "      <td>Learn package making pypend</td>\n",
       "      <td>Coding study</td>\n",
       "      <td>1142</td>\n",
       "    </tr>\n",
       "    <tr>\n",
       "      <th>62</th>\n",
       "      <td>2020/04/15</td>\n",
       "      <td>15:05:57</td>\n",
       "      <td>watch Inslee</td>\n",
       "      <td>News</td>\n",
       "      <td>1500</td>\n",
       "    </tr>\n",
       "    <tr>\n",
       "      <th>63</th>\n",
       "      <td>2020/04/15</td>\n",
       "      <td>15:30:58</td>\n",
       "      <td>watch Inslee</td>\n",
       "      <td>News</td>\n",
       "      <td>1360</td>\n",
       "    </tr>\n",
       "    <tr>\n",
       "      <th>64</th>\n",
       "      <td>2020/04/15</td>\n",
       "      <td>15:55:30</td>\n",
       "      <td>update Task_timer analysis</td>\n",
       "      <td>Coding study</td>\n",
       "      <td>1323</td>\n",
       "    </tr>\n",
       "  </tbody>\n",
       "</table>\n",
       "</div>"
      ],
      "text/plain": [
       "          date start time                         Task         Label  \\\n",
       "60  2020/04/15   14:07:47  Learn package making pypend  Coding study   \n",
       "61  2020/04/15   14:32:48  Learn package making pypend  Coding study   \n",
       "62  2020/04/15   15:05:57                watch Inslee           News   \n",
       "63  2020/04/15   15:30:58                watch Inslee           News   \n",
       "64  2020/04/15   15:55:30  update Task_timer analysis   Coding study   \n",
       "\n",
       "    Duration (s)  \n",
       "60          1500  \n",
       "61          1142  \n",
       "62          1500  \n",
       "63          1360  \n",
       "64          1323  "
      ]
     },
     "execution_count": 2,
     "metadata": {},
     "output_type": "execute_result"
    }
   ],
   "source": [
    "path = os.path.abspath(os.path.join( os.getcwd()   , 'log_files\\\\') ) \n",
    "\n",
    "log_files = glob.glob( path+ '*.csv')  \n",
    "\n",
    "df = pd.DataFrame()\n",
    "for file in log_files :\n",
    "    df_temp = pd.read_csv( file, index_col=None, header=0)  \n",
    "    df = df.append(df_temp ,sort=False)   \n",
    "    \n",
    "df.tail()"
   ]
  },
  {
   "cell_type": "markdown",
   "metadata": {},
   "source": [
    "# Data processing \n"
   ]
  },
  {
   "cell_type": "code",
   "execution_count": 54,
   "metadata": {},
   "outputs": [
    {
     "data": {
      "text/plain": [
       "array(['Other', 'Meetings', 'Study', 'Jobsearch', 'FEA project', 'News',\n",
       "       'Coding study', 'FF timing pend', 'Flex pendulum'], dtype=object)"
      ]
     },
     "execution_count": 54,
     "metadata": {},
     "output_type": "execute_result"
    }
   ],
   "source": [
    "# remove any task shorter than 1 minute, it's probably a test\n",
    "bool_short_duration = df['Duration (s)'] < 60\n",
    "df = df[~bool_short_duration]\n",
    "\n",
    "\n",
    "# standardize labels \n",
    "change_labels = ['Timing feedforward','Timing feedforward project','FFtiming pend','Timing feedforw']\n",
    "goal_label = 'FF timing pend'\n",
    "for change_label in change_labels:\n",
    "    bool_label = df['Label'] != change_label \n",
    "    df['Label'] = df['Label'].where(bool_label, goal_label ) \n",
    "    \n",
    "    \n",
    "change_labels = ['Code']\n",
    "goal_label = 'Coding study'\n",
    "for change_label in change_labels:\n",
    "    bool_label = df['Label'] != change_label \n",
    "    df['Label'] = df['Label'].where(bool_label, goal_label ) \n",
    "    \n",
    "df['Label'].unique()"
   ]
  },
  {
   "cell_type": "markdown",
   "metadata": {},
   "source": [
    " # Data conversion"
   ]
  },
  {
   "cell_type": "code",
   "execution_count": 4,
   "metadata": {},
   "outputs": [],
   "source": [
    "df['date'] = pd.to_datetime(df['date'] )  \n",
    "df['Duration (hh:mm:ss)'] = pd.to_timedelta(df['Duration (s)'],'s')\n",
    "df.tail()\n",
    "df['Week'] = df['date'].dt.strftime(\"%V\")"
   ]
  },
  {
   "cell_type": "code",
   "execution_count": 55,
   "metadata": {},
   "outputs": [],
   "source": [
    "df_week = df.groupby(['Week','Label',]).sum()\n",
    "df_week['Time spent per week'] = pd.to_timedelta(df_week['Duration (s)'],'s')\n",
    "df_week =df_week.drop( ['Duration (s)'],axis=1)  \n",
    "\n",
    "# df_week.tail(10)"
   ]
  },
  {
   "cell_type": "code",
   "execution_count": 56,
   "metadata": {},
   "outputs": [
    {
     "data": {
      "text/html": [
       "<div>\n",
       "<style scoped>\n",
       "    .dataframe tbody tr th:only-of-type {\n",
       "        vertical-align: middle;\n",
       "    }\n",
       "\n",
       "    .dataframe tbody tr th {\n",
       "        vertical-align: top;\n",
       "    }\n",
       "\n",
       "    .dataframe thead th {\n",
       "        text-align: right;\n",
       "    }\n",
       "</style>\n",
       "<table border=\"1\" class=\"dataframe\">\n",
       "  <thead>\n",
       "    <tr style=\"text-align: right;\">\n",
       "      <th></th>\n",
       "      <th></th>\n",
       "      <th>Time spent per day</th>\n",
       "    </tr>\n",
       "    <tr>\n",
       "      <th>date</th>\n",
       "      <th>Label</th>\n",
       "      <th></th>\n",
       "    </tr>\n",
       "  </thead>\n",
       "  <tbody>\n",
       "    <tr>\n",
       "      <th rowspan=\"3\" valign=\"top\">2020-04-13</th>\n",
       "      <th>FF timing pend</th>\n",
       "      <td>03:33:39</td>\n",
       "    </tr>\n",
       "    <tr>\n",
       "      <th>News</th>\n",
       "      <td>01:11:44</td>\n",
       "    </tr>\n",
       "    <tr>\n",
       "      <th>Other</th>\n",
       "      <td>00:08:47</td>\n",
       "    </tr>\n",
       "    <tr>\n",
       "      <th rowspan=\"3\" valign=\"top\">2020-04-14</th>\n",
       "      <th>Coding study</th>\n",
       "      <td>01:37:02</td>\n",
       "    </tr>\n",
       "    <tr>\n",
       "      <th>FF timing pend</th>\n",
       "      <td>01:49:25</td>\n",
       "    </tr>\n",
       "    <tr>\n",
       "      <th>News</th>\n",
       "      <td>01:05:52</td>\n",
       "    </tr>\n",
       "    <tr>\n",
       "      <th rowspan=\"4\" valign=\"top\">2020-04-15</th>\n",
       "      <th>Coding study</th>\n",
       "      <td>01:31:05</td>\n",
       "    </tr>\n",
       "    <tr>\n",
       "      <th>Flex pendulum</th>\n",
       "      <td>01:24:58</td>\n",
       "    </tr>\n",
       "    <tr>\n",
       "      <th>News</th>\n",
       "      <td>02:03:49</td>\n",
       "    </tr>\n",
       "    <tr>\n",
       "      <th>Other</th>\n",
       "      <td>00:06:56</td>\n",
       "    </tr>\n",
       "  </tbody>\n",
       "</table>\n",
       "</div>"
      ],
      "text/plain": [
       "                          Time spent per day\n",
       "date       Label                            \n",
       "2020-04-13 FF timing pend           03:33:39\n",
       "           News                     01:11:44\n",
       "           Other                    00:08:47\n",
       "2020-04-14 Coding study             01:37:02\n",
       "           FF timing pend           01:49:25\n",
       "           News                     01:05:52\n",
       "2020-04-15 Coding study             01:31:05\n",
       "           Flex pendulum            01:24:58\n",
       "           News                     02:03:49\n",
       "           Other                    00:06:56"
      ]
     },
     "execution_count": 56,
     "metadata": {},
     "output_type": "execute_result"
    }
   ],
   "source": [
    "df_day = df.groupby(['date','Label',]).sum()\n",
    "df_day['Time spent per day'] = pd.to_timedelta(df_day['Duration (s)'],'s')\n",
    "df_day =df_day.drop( ['Duration (s)'],axis=1) \n",
    "df_day.tail(10)"
   ]
  },
  {
   "cell_type": "code",
   "execution_count": 53,
   "metadata": {},
   "outputs": [
    {
     "data": {
      "text/html": [
       "<div>\n",
       "<style scoped>\n",
       "    .dataframe tbody tr th:only-of-type {\n",
       "        vertical-align: middle;\n",
       "    }\n",
       "\n",
       "    .dataframe tbody tr th {\n",
       "        vertical-align: top;\n",
       "    }\n",
       "\n",
       "    .dataframe thead th {\n",
       "        text-align: right;\n",
       "    }\n",
       "</style>\n",
       "<table border=\"1\" class=\"dataframe\">\n",
       "  <thead>\n",
       "    <tr style=\"text-align: right;\">\n",
       "      <th></th>\n",
       "      <th>Worked per day</th>\n",
       "    </tr>\n",
       "    <tr>\n",
       "      <th>date</th>\n",
       "      <th></th>\n",
       "    </tr>\n",
       "  </thead>\n",
       "  <tbody>\n",
       "    <tr>\n",
       "      <th>2020-04-13</th>\n",
       "      <td>03:33:39</td>\n",
       "    </tr>\n",
       "    <tr>\n",
       "      <th>2020-04-14</th>\n",
       "      <td>01:49:25</td>\n",
       "    </tr>\n",
       "    <tr>\n",
       "      <th>2020-04-15</th>\n",
       "      <td>01:24:58</td>\n",
       "    </tr>\n",
       "  </tbody>\n",
       "</table>\n",
       "</div>"
      ],
      "text/plain": [
       "           Worked per day\n",
       "date                     \n",
       "2020-04-13       03:33:39\n",
       "2020-04-14       01:49:25\n",
       "2020-04-15       01:24:58"
      ]
     },
     "execution_count": 53,
     "metadata": {},
     "output_type": "execute_result"
    }
   ],
   "source": [
    "bool_work = df['Label'].isin(['FF timing pend','Flex pendulum','FEA wing','Lab business'])\n",
    " \n",
    "df_temp = df[bool_work].groupby('date').sum()\n",
    "df_temp['Worked per day'] = pd.to_timedelta( df_temp['Duration (s)'] ,'s')  \n",
    "df_temp = df_temp.drop( ['Duration (s)'],axis=1) \n",
    "df_temp.tail()"
   ]
  },
  {
   "cell_type": "markdown",
   "metadata": {},
   "source": [
    " # Set plotting color"
   ]
  },
  {
   "cell_type": "code",
   "execution_count": 13,
   "metadata": {},
   "outputs": [],
   "source": [
    "# make colorscheme \n",
    "cols = np.array([[166,206,227], \n",
    "[31,120,180], \n",
    "[178,223,138], \n",
    "[51,160,44], \n",
    "[251,154,153], \n",
    "[227,26,28], \n",
    "[253,191,111], \n",
    "[255,127,0], \n",
    "[202,178,214], \n",
    "[106,61,154], \n",
    "[255,255,153]]) /255  \n",
    "\n",
    "labels = df['Label'].unique()     \n",
    "label_dict = {}\n",
    "for label,col in zip(labels,cols): \n",
    "    label_dict[label] = col "
   ]
  },
  {
   "cell_type": "markdown",
   "metadata": {},
   "source": [
    "# Create plotting functions "
   ]
  },
  {
   "cell_type": "code",
   "execution_count": 247,
   "metadata": {},
   "outputs": [],
   "source": [
    "def get_sec(time_str):\n",
    "    \"\"\"Get Seconds from time.\"\"\"\n",
    "    h, m, s = time_str.split(':')\n",
    "    return int(h) * 3600 + int(m) * 60 + int(s)\n",
    "\n",
    "def tick(x,pos): \n",
    "    days = [\"Mon\", \"Tue\", \"Wed\", \"Thu\", \"Fri\", \"Sat\", \"Sun\"]\n",
    "    return days[int(x)]  \n",
    "    \n",
    "def hours_to_hhmm( arr ): \n",
    "    out_list = []\n",
    "    for val in arr:\n",
    "        if val< 10:\n",
    "            test = '0' + str(val) +':00'\n",
    "        else:\n",
    "            test = str(val) + ':00'\n",
    "        out_list.append(test)\n",
    "    return( out_list ) \n",
    " \n",
    "def plot_week_tasks( ax_pl, df_week, label_dict, bool_legend=False ):\n",
    "    days_in_week = df_week['date'].unique()\n",
    "    for day in days_in_week : \n",
    "        bool_day = df_week['date'] == day \n",
    "        df_week_temp = df_week[bool_day] \n",
    "\n",
    "        for j,row in df_week_temp.iterrows():\n",
    "            y = get_sec( row['start time'] )\n",
    "            dy =  row['Duration (s)'] \n",
    "            label = row['Label']  \n",
    "            ax_pl.bar( row['date'],dy, bottom = y, \n",
    "                      color = label_dict[label] , label = label ) \n",
    " \n",
    "    # set xlim \n",
    "    first_day = pd.to_datetime( days_in_week[0] )\n",
    "    mon_day = first_day - datetime.timedelta( first_day.isocalendar()[2] -0.5 )\n",
    "    sun_day = mon_day + datetime.timedelta( 7)    \n",
    "#     ax_pl.set_xlim([mon_day,sun_day]) \n",
    "    ax_pl.set_xlim( matplotlib.dates.date2num(mon_day)-0.4, matplotlib.dates.date2num(sun_day)+0.4 )\n",
    "\n",
    "    # set ylim \n",
    "    ax_pl.set_ylim([6*3600,19*3600]) \n",
    "\n",
    "    # set xaxis ticks and ticklabels\n",
    "    ax_pl.xaxis.set_major_locator(MultipleLocator(1))\n",
    "    daysFmt = DateFormatter(\"%a\")\n",
    "    ax_pl.xaxis.set_major_formatter(daysFmt) \n",
    "    for tick in ax_pl.get_xticklabels():\n",
    "        tick.set_rotation( 45 )\n",
    "        \n",
    "    # set yaxis ticks \n",
    "    ax_pl.invert_yaxis()\n",
    "    hours = np.array([9,12,13,17])\n",
    "    ax_pl.yaxis.set_ticks( hours*3600)\n",
    "    ax_pl.yaxis.set_ticklabels( hours_to_hhmm(hours ) )\n",
    "    ax_pl.yaxis.grid('on')\n",
    " \n",
    "    # remove spines \n",
    "    ax_pl.spines['top'].set_visible(False)\n",
    "    ax_pl.spines['right'].set_visible(False) \n",
    "    \n",
    "    # set legend \n",
    "    if bool_legend:\n",
    "        handles, labels = ax_pl.get_legend_handles_labels()\n",
    "        by_label = dict(zip(labels, handles))\n",
    "        ax_pl.legend(by_label.values(), by_label.keys(), loc='center left', bbox_to_anchor=(1, 0.5) )\n",
    "    \n",
    "    bbox_props = dict(boxstyle=\"round,pad=0.1\", fc=\"w\", ec=\"w\", lw=2, alpha = 0.5) \n",
    "    ax_pl.annotate( mon_day.date(), (mon_day,7*3600), \n",
    "                   va='top',ha='left' ,\n",
    "                   bbox={'boxstyle':\"round,pad=0.1\", 'fc':\"w\",'ec':'w', 'alpha':0.9})\n",
    "    \n",
    "    \n",
    "def plot_time_spent( ax_pl, df_week, label_dict, bool_legend=False): \n",
    "    \n",
    "    \n",
    "    df_pl = df_week.groupby(['date','Label']).sum().reset_index() \n",
    "\n",
    "    labels = df_pl['Label'].unique()\n",
    "    n_labels = len(labels)  \n",
    "\n",
    "\n",
    "    days_in_week = df_pl['date'].unique()\n",
    "    for day in days_in_week:\n",
    "        bool_day = df_pl['date'] == day \n",
    "\n",
    "        for i,label in enumerate(labels): \n",
    "            bool_label = df_pl['Label'] == label\n",
    "\n",
    "            x =  matplotlib.dates.date2num(day)+ i/(n_labels) - 0.5  #-0.5/n_labels\n",
    "            try:\n",
    "                y = df_pl.loc[bool_day & bool_label,'Duration (s)'].iloc[0] \n",
    "            except:\n",
    "                y=0\n",
    "            ax_pl.bar(x,y, width =1/n_labels,\n",
    "                   align='edge',\n",
    "                   color=label_dict[label],\n",
    "                     label = label )\n",
    "\n",
    "    # # set xlim \n",
    "    first_day = pd.to_datetime( days_in_week[0] )\n",
    "    mon_day = first_day - datetime.timedelta( first_day.isocalendar()[2] -0.5 )\n",
    "    sun_day = mon_day + datetime.timedelta( 7)    \n",
    "    ax_pl.set_xlim([mon_day,sun_day])  \n",
    "\n",
    "    # # set xaxis ticks and ticklabels\n",
    "    ax_pl.xaxis.set_major_locator(MultipleLocator(1))\n",
    "    daysFmt = DateFormatter(\"%a\")\n",
    "    ax_pl.xaxis.set_major_formatter(daysFmt) \n",
    "    for tick in ax_pl.get_xticklabels():\n",
    "        tick.set_rotation( 45 )\n",
    "\n",
    "    # # set yaxis ticks  \n",
    "    hours = np.array([0,1,2,3,4 ])\n",
    "    ax_pl.yaxis.set_ticks( hours*3600)\n",
    "    ax_pl.yaxis.set_ticklabels( hours_to_hhmm(hours ) )\n",
    "    ax_pl.yaxis.grid('on')\n",
    "\n",
    "    # remove spines \n",
    "    ax_pl.spines['top'].set_visible(False)\n",
    "    ax_pl.spines['right'].set_visible(False) \n",
    "\n",
    "    # set legend \n",
    "    if bool_legend:\n",
    "        handles, labels = ax_pl.get_legend_handles_labels()\n",
    "        by_label = dict(zip(labels, handles))\n",
    "        ax_pl.legend(by_label.values(), by_label.keys(), loc='center left', bbox_to_anchor=(1, 0.5) )\n",
    "\n",
    "    bbox_props = dict(boxstyle=\"round,pad=0.1\", fc=\"w\", ec=\"w\", lw=2, alpha = 0.5) \n",
    "    ax_pl.annotate( mon_day.date(), (mon_day,7*3600), \n",
    "                   va='top',ha='left' ,\n",
    "                   bbox={'boxstyle':\"round,pad=0.1\", 'fc':\"w\",'ec':'w', 'alpha':0.9})\n",
    "\n",
    "    \n",
    "def plot_time_spent_weekly(ax_pl,df_pl, label_dict, bool_legend=False):\n",
    "    #[0,1] plot overview of total time \n",
    "    df_pl = df_week.groupby('Label').sum() \n",
    "    df_pl.index\n",
    "\n",
    "    col_list = []\n",
    "    for key in df_pl.index.tolist():\n",
    "        col_list.append( label_dict[key] ) \n",
    "\n",
    "    ax_pl.barh( df_pl.index, df_pl['Duration (s)'],color=col_list )\n",
    "\n",
    "    hours = np.array([0,2,4,6,8,10])\n",
    "    ax_pl.xaxis.set_ticks( hours*3600)\n",
    "    ax_pl.xaxis.set_ticklabels( hours_to_hhmm(hours ) )\n",
    "    ax_pl.set_xlabel('Total time spent (hh:mm)') \n",
    " \n",
    "\n",
    "    # remove spines \n",
    "    ax_pl.spines['top'].set_visible(False)\n",
    "    ax_pl.spines['right'].set_visible(False) \n",
    "    \n",
    "    ax_pl.xaxis.grid('on')\n",
    "#     # set legend \n",
    "#     if bool_legend:\n",
    "#         handles, labels = ax_pl.get_legend_handles_labels()\n",
    "#         by_label = dict(zip(labels, handles))\n",
    "#         ax_pl.legend(by_label.values(), \n",
    "#                      by_label.keys(), \n",
    "#                      loc='center left', \n",
    "#                      bbox_to_anchor=(1, 0.5) )\n",
    "\n",
    "\n",
    "\n",
    "\n"
   ]
  },
  {
   "cell_type": "markdown",
   "metadata": {},
   "source": [
    "# Plot tracked time per week"
   ]
  },
  {
   "cell_type": "code",
   "execution_count": 248,
   "metadata": {},
   "outputs": [
    {
     "data": {
      "image/png": "[encoded data removed]",
      "text/plain": [
       "<Figure size 720x864 with 8 Axes>"
      ]
     },
     "metadata": {
      "needs_background": "light"
     },
     "output_type": "display_data"
    }
   ],
   "source": [
    "weeks = df['Week'].unique()\n",
    "\n",
    "fig, ax= plt.subplots( len(weeks), 2, figsize =(10,12))\n",
    "# ax = ax.flat # flatten so iteration is simpler\n",
    "\n",
    "for i, week in enumerate(weeks):  \n",
    "    bool_week = df['Week'] == week\n",
    "    df_week = df[bool_week].copy() \n",
    "    \n",
    "    # plot left axis\n",
    "    plot_week_tasks( ax[i,0], df_week, label_dict )\n",
    "    plot_time_spent_weekly( ax[i,1], df_week, label_dict )\n",
    "    \n",
    "#     # plot right axis\n",
    "#     if i == (len(weeks)-1): \n",
    "#     else: \n",
    "#         plot_time_spent_weekly( ax[i,1], df_week, label_dict, bool_legend = False)\n",
    "        \n",
    "        \n",
    "\n",
    "plt.subplots_adjust(left=None, bottom=None, right=None, top=None, wspace=.4, hspace=None)"
   ]
  },
  {
   "cell_type": "markdown",
   "metadata": {},
   "source": [
    "# Plot this week "
   ]
  },
  {
   "cell_type": "code",
   "execution_count": 251,
   "metadata": {},
   "outputs": [
    {
     "data": {
      "image/png": "[encoded data removed]",
      "text/plain": [
       "<Figure size 720x432 with 3 Axes>"
      ]
     },
     "metadata": {
      "needs_background": "light"
     },
     "output_type": "display_data"
    }
   ],
   "source": [
    "\n",
    "bool_week = df['Week'] == weeks[-1]\n",
    "df_week = df[bool_week].copy()\n",
    "\n",
    "\n",
    "fig, ax = plt.subplots(2, 2, squeeze=False, figsize =(10,6))\n",
    "\n",
    "# plot 3 subplots\n",
    "plot_week_tasks( ax[0,0], df_week, label_dict ) \n",
    "plot_time_spent_weekly(ax[0,1], df_week, label_dict, bool_legend=True)\n",
    "plot_time_spent( ax[1,0], df_week, label_dict ,bool_legend=False) \n",
    "  \n",
    "# adjust layout \n",
    "plt.subplots_adjust(left=None, bottom=None, right=None, top=None, wspace=.4, hspace=None) \n",
    "ax[1,1].axes.remove()"
   ]
  },
  {
   "cell_type": "code",
   "execution_count": null,
   "metadata": {},
   "outputs": [],
   "source": [
    " "
   ]
  },
  {
   "cell_type": "code",
   "execution_count": null,
   "metadata": {},
   "outputs": [],
   "source": []
  }
 ],
 "metadata": {
  "kernelspec": {
   "display_name": "Python 3",
   "language": "python",
   "name": "python3"
  },
  "language_info": {
   "codemirror_mode": {
    "name": "ipython",
    "version": 3
   },
   "file_extension": ".py",
   "mimetype": "text/x-python",
   "name": "python",
   "nbconvert_exporter": "python",
   "pygments_lexer": "ipython3",
   "version": "3.7.1"
  }
 },
 "nbformat": 4,
 "nbformat_minor": 2
}
