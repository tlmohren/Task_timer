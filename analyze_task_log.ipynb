{
 "cells": [
  {
   "cell_type": "code",
   "execution_count": 167,
   "metadata": {},
   "outputs": [],
   "source": [
    "import numpy as np\n",
    "import pandas as pd\n",
    "import datetime\n",
    "import glob\n",
    "import os\n",
    " \n",
    "from matplotlib.colors import ListedColormap\n",
    "\n",
    "import matplotlib.pyplot as plt\n",
    "import matplotlib.dates \n",
    "from matplotlib.ticker import MultipleLocator, FuncFormatter, NullFormatter\n",
    "from matplotlib.dates import MonthLocator, WeekdayLocator, DateFormatter"
   ]
  },
  {
   "cell_type": "markdown",
   "metadata": {},
   "source": [
    "# Import data "
   ]
  },
  {
   "cell_type": "code",
   "execution_count": 168,
   "metadata": {},
   "outputs": [
    {
     "data": {
      "text/html": [
       "<div>\n",
       "<style scoped>\n",
       "    .dataframe tbody tr th:only-of-type {\n",
       "        vertical-align: middle;\n",
       "    }\n",
       "\n",
       "    .dataframe tbody tr th {\n",
       "        vertical-align: top;\n",
       "    }\n",
       "\n",
       "    .dataframe thead th {\n",
       "        text-align: right;\n",
       "    }\n",
       "</style>\n",
       "<table border=\"1\" class=\"dataframe\">\n",
       "  <thead>\n",
       "    <tr style=\"text-align: right;\">\n",
       "      <th></th>\n",
       "      <th>date</th>\n",
       "      <th>start time</th>\n",
       "      <th>Task</th>\n",
       "      <th>Label</th>\n",
       "      <th>Duration (s)</th>\n",
       "    </tr>\n",
       "  </thead>\n",
       "  <tbody>\n",
       "    <tr>\n",
       "      <th>60</th>\n",
       "      <td>2020/04/15</td>\n",
       "      <td>14:07:47</td>\n",
       "      <td>Learn package making pypend</td>\n",
       "      <td>Coding study</td>\n",
       "      <td>1500</td>\n",
       "    </tr>\n",
       "    <tr>\n",
       "      <th>61</th>\n",
       "      <td>2020/04/15</td>\n",
       "      <td>14:32:48</td>\n",
       "      <td>Learn package making pypend</td>\n",
       "      <td>Coding study</td>\n",
       "      <td>1142</td>\n",
       "    </tr>\n",
       "    <tr>\n",
       "      <th>62</th>\n",
       "      <td>2020/04/15</td>\n",
       "      <td>15:05:57</td>\n",
       "      <td>watch Inslee</td>\n",
       "      <td>News</td>\n",
       "      <td>1500</td>\n",
       "    </tr>\n",
       "    <tr>\n",
       "      <th>63</th>\n",
       "      <td>2020/04/15</td>\n",
       "      <td>15:30:58</td>\n",
       "      <td>watch Inslee</td>\n",
       "      <td>News</td>\n",
       "      <td>1360</td>\n",
       "    </tr>\n",
       "    <tr>\n",
       "      <th>64</th>\n",
       "      <td>2020/04/15</td>\n",
       "      <td>15:55:30</td>\n",
       "      <td>update Task_timer analysis</td>\n",
       "      <td>Coding study</td>\n",
       "      <td>1323</td>\n",
       "    </tr>\n",
       "  </tbody>\n",
       "</table>\n",
       "</div>"
      ],
      "text/plain": [
       "          date start time                         Task         Label  \\\n",
       "60  2020/04/15   14:07:47  Learn package making pypend  Coding study   \n",
       "61  2020/04/15   14:32:48  Learn package making pypend  Coding study   \n",
       "62  2020/04/15   15:05:57                watch Inslee           News   \n",
       "63  2020/04/15   15:30:58                watch Inslee           News   \n",
       "64  2020/04/15   15:55:30  update Task_timer analysis   Coding study   \n",
       "\n",
       "    Duration (s)  \n",
       "60          1500  \n",
       "61          1142  \n",
       "62          1500  \n",
       "63          1360  \n",
       "64          1323  "
      ]
     },
     "execution_count": 168,
     "metadata": {},
     "output_type": "execute_result"
    }
   ],
   "source": [
    "path = os.path.abspath(os.path.join( os.getcwd()   , 'log_files\\\\') ) \n",
    "\n",
    "log_files = glob.glob( path+ '*.csv')  \n",
    "\n",
    "df = pd.DataFrame()\n",
    "for file in log_files :\n",
    "    df_temp = pd.read_csv( file, index_col=None, header=0)  \n",
    "    df = df.append(df_temp ,sort=False)   \n",
    "    \n",
    "df.tail()"
   ]
  },
  {
   "cell_type": "markdown",
   "metadata": {},
   "source": [
    "# Data processing \n"
   ]
  },
  {
   "cell_type": "code",
   "execution_count": 169,
   "metadata": {},
   "outputs": [
    {
     "data": {
      "text/plain": [
       "array(['Other', 'Meetings', 'Study', 'Jobsearch', 'FEA project', 'News',\n",
       "       'Coding study', 'FF timing pend', 'Flex pendulum'], dtype=object)"
      ]
     },
     "execution_count": 169,
     "metadata": {},
     "output_type": "execute_result"
    }
   ],
   "source": [
    "# remove any task shorter than 1 minute, it's probably a test\n",
    "bool_short_duration = df['Duration (s)'] < 60\n",
    "df = df[~bool_short_duration]\n",
    "\n",
    "\n",
    "# standardize labels \n",
    "change_labels = ['Timing feedforward','Timing feedforward project','FFtiming pend','Timing feedforw']\n",
    "goal_label = 'FF timing pend'\n",
    "for change_label in change_labels:\n",
    "    bool_label = df['Label'] != change_label \n",
    "    df['Label'] = df['Label'].where(bool_label, goal_label ) \n",
    "    \n",
    "    \n",
    "change_labels = ['Code']\n",
    "goal_label = 'Coding study'\n",
    "for change_label in change_labels:\n",
    "    bool_label = df['Label'] != change_label \n",
    "    df['Label'] = df['Label'].where(bool_label, goal_label ) \n",
    "    \n",
    "df['Label'].unique()"
   ]
  },
  {
   "cell_type": "markdown",
   "metadata": {},
   "source": [
    " # Data conversion"
   ]
  },
  {
   "cell_type": "code",
   "execution_count": 170,
   "metadata": {},
   "outputs": [],
   "source": [
    "df['date'] = pd.to_datetime(df['date'] )  \n",
    "df['Duration (hh:mm:ss)'] = pd.to_timedelta(df['Duration (s)'],'s')\n",
    "df.tail()\n",
    "df['Week'] = df['date'].dt.strftime(\"%V\")"
   ]
  },
  {
   "cell_type": "code",
   "execution_count": 171,
   "metadata": {},
   "outputs": [
    {
     "data": {
      "text/html": [
       "<div>\n",
       "<style scoped>\n",
       "    .dataframe tbody tr th:only-of-type {\n",
       "        vertical-align: middle;\n",
       "    }\n",
       "\n",
       "    .dataframe tbody tr th {\n",
       "        vertical-align: top;\n",
       "    }\n",
       "\n",
       "    .dataframe thead th {\n",
       "        text-align: right;\n",
       "    }\n",
       "</style>\n",
       "<table border=\"1\" class=\"dataframe\">\n",
       "  <thead>\n",
       "    <tr style=\"text-align: right;\">\n",
       "      <th></th>\n",
       "      <th></th>\n",
       "      <th>Time spent per week</th>\n",
       "    </tr>\n",
       "    <tr>\n",
       "      <th>Week</th>\n",
       "      <th>Label</th>\n",
       "      <th></th>\n",
       "    </tr>\n",
       "  </thead>\n",
       "  <tbody>\n",
       "    <tr>\n",
       "      <th rowspan=\"5\" valign=\"top\">15</th>\n",
       "      <th>Jobsearch</th>\n",
       "      <td>00:42:41</td>\n",
       "    </tr>\n",
       "    <tr>\n",
       "      <th>Meetings</th>\n",
       "      <td>03:01:44</td>\n",
       "    </tr>\n",
       "    <tr>\n",
       "      <th>News</th>\n",
       "      <td>00:57:01</td>\n",
       "    </tr>\n",
       "    <tr>\n",
       "      <th>Other</th>\n",
       "      <td>04:48:36</td>\n",
       "    </tr>\n",
       "    <tr>\n",
       "      <th>Study</th>\n",
       "      <td>04:37:45</td>\n",
       "    </tr>\n",
       "    <tr>\n",
       "      <th rowspan=\"5\" valign=\"top\">16</th>\n",
       "      <th>Coding study</th>\n",
       "      <td>04:53:09</td>\n",
       "    </tr>\n",
       "    <tr>\n",
       "      <th>FF timing pend</th>\n",
       "      <td>05:23:04</td>\n",
       "    </tr>\n",
       "    <tr>\n",
       "      <th>Flex pendulum</th>\n",
       "      <td>01:24:58</td>\n",
       "    </tr>\n",
       "    <tr>\n",
       "      <th>News</th>\n",
       "      <td>04:21:25</td>\n",
       "    </tr>\n",
       "    <tr>\n",
       "      <th>Other</th>\n",
       "      <td>00:15:43</td>\n",
       "    </tr>\n",
       "  </tbody>\n",
       "</table>\n",
       "</div>"
      ],
      "text/plain": [
       "                    Time spent per week\n",
       "Week Label                             \n",
       "15   Jobsearch                 00:42:41\n",
       "     Meetings                  03:01:44\n",
       "     News                      00:57:01\n",
       "     Other                     04:48:36\n",
       "     Study                     04:37:45\n",
       "16   Coding study              04:53:09\n",
       "     FF timing pend            05:23:04\n",
       "     Flex pendulum             01:24:58\n",
       "     News                      04:21:25\n",
       "     Other                     00:15:43"
      ]
     },
     "execution_count": 171,
     "metadata": {},
     "output_type": "execute_result"
    }
   ],
   "source": [
    "df_week = df.groupby(['Week','Label',]).sum()\n",
    "df_week['Time spent per week'] = pd.to_timedelta(df_week['Duration (s)'],'s')\n",
    "df_week =df_week.drop( ['Duration (s)'],axis=1) \n",
    "df_week\n",
    "df_week.tail(10)"
   ]
  },
  {
   "cell_type": "code",
   "execution_count": 172,
   "metadata": {},
   "outputs": [
    {
     "data": {
      "text/html": [
       "<div>\n",
       "<style scoped>\n",
       "    .dataframe tbody tr th:only-of-type {\n",
       "        vertical-align: middle;\n",
       "    }\n",
       "\n",
       "    .dataframe tbody tr th {\n",
       "        vertical-align: top;\n",
       "    }\n",
       "\n",
       "    .dataframe thead th {\n",
       "        text-align: right;\n",
       "    }\n",
       "</style>\n",
       "<table border=\"1\" class=\"dataframe\">\n",
       "  <thead>\n",
       "    <tr style=\"text-align: right;\">\n",
       "      <th></th>\n",
       "      <th></th>\n",
       "      <th>Time spent per day</th>\n",
       "    </tr>\n",
       "    <tr>\n",
       "      <th>date</th>\n",
       "      <th>Label</th>\n",
       "      <th></th>\n",
       "    </tr>\n",
       "  </thead>\n",
       "  <tbody>\n",
       "    <tr>\n",
       "      <th rowspan=\"3\" valign=\"top\">2020-04-13</th>\n",
       "      <th>FF timing pend</th>\n",
       "      <td>03:33:39</td>\n",
       "    </tr>\n",
       "    <tr>\n",
       "      <th>News</th>\n",
       "      <td>01:11:44</td>\n",
       "    </tr>\n",
       "    <tr>\n",
       "      <th>Other</th>\n",
       "      <td>00:08:47</td>\n",
       "    </tr>\n",
       "    <tr>\n",
       "      <th rowspan=\"3\" valign=\"top\">2020-04-14</th>\n",
       "      <th>Coding study</th>\n",
       "      <td>01:37:02</td>\n",
       "    </tr>\n",
       "    <tr>\n",
       "      <th>FF timing pend</th>\n",
       "      <td>01:49:25</td>\n",
       "    </tr>\n",
       "    <tr>\n",
       "      <th>News</th>\n",
       "      <td>01:05:52</td>\n",
       "    </tr>\n",
       "    <tr>\n",
       "      <th rowspan=\"4\" valign=\"top\">2020-04-15</th>\n",
       "      <th>Coding study</th>\n",
       "      <td>01:31:05</td>\n",
       "    </tr>\n",
       "    <tr>\n",
       "      <th>Flex pendulum</th>\n",
       "      <td>01:24:58</td>\n",
       "    </tr>\n",
       "    <tr>\n",
       "      <th>News</th>\n",
       "      <td>02:03:49</td>\n",
       "    </tr>\n",
       "    <tr>\n",
       "      <th>Other</th>\n",
       "      <td>00:06:56</td>\n",
       "    </tr>\n",
       "  </tbody>\n",
       "</table>\n",
       "</div>"
      ],
      "text/plain": [
       "                          Time spent per day\n",
       "date       Label                            \n",
       "2020-04-13 FF timing pend           03:33:39\n",
       "           News                     01:11:44\n",
       "           Other                    00:08:47\n",
       "2020-04-14 Coding study             01:37:02\n",
       "           FF timing pend           01:49:25\n",
       "           News                     01:05:52\n",
       "2020-04-15 Coding study             01:31:05\n",
       "           Flex pendulum            01:24:58\n",
       "           News                     02:03:49\n",
       "           Other                    00:06:56"
      ]
     },
     "execution_count": 172,
     "metadata": {},
     "output_type": "execute_result"
    }
   ],
   "source": [
    "df_day = df.groupby(['date','Label',]).sum()\n",
    "df_day['Time spent per day'] = pd.to_timedelta(df_day['Duration (s)'],'s')\n",
    "df_day =df_day.drop( ['Duration (s)'],axis=1) \n",
    "df_day.tail(10)"
   ]
  },
  {
   "cell_type": "code",
   "execution_count": 173,
   "metadata": {},
   "outputs": [],
   "source": [
    "# df_day.groupby('date').sum()"
   ]
  },
  {
   "cell_type": "markdown",
   "metadata": {},
   "source": [
    " # set ploting parameters"
   ]
  },
  {
   "cell_type": "code",
   "execution_count": 174,
   "metadata": {},
   "outputs": [
    {
     "data": {
      "text/plain": [
       "{'Other': 0,\n",
       " 'Meetings': 1,\n",
       " 'Study': 2,\n",
       " 'Jobsearch': 3,\n",
       " 'FEA project': 4,\n",
       " 'News': 5,\n",
       " 'Coding study': 6,\n",
       " 'FF timing pend': 7,\n",
       " 'Flex pendulum': 8}"
      ]
     },
     "execution_count": 174,
     "metadata": {},
     "output_type": "execute_result"
    }
   ],
   "source": [
    "# make colorscheme \n",
    "cols = np.array([[166,206,227], \n",
    "[31,120,180], \n",
    "[178,223,138], \n",
    "[51,160,44], \n",
    "[251,154,153], \n",
    "[227,26,28], \n",
    "[253,191,111], \n",
    "[255,127,0], \n",
    "[202,178,214], \n",
    "[106,61,154], \n",
    "[255,255,153]]) /255 \n",
    "\n",
    "cmap = ListedColormap(cols) \n",
    "\n",
    "labels = df['Label'].unique()\n",
    "label_dict = {}\n",
    "for i,label in enumerate(labels):\n",
    "    label_dict[label] = i\n",
    "label_dict"
   ]
  },
  {
   "cell_type": "markdown",
   "metadata": {},
   "source": [
    "# Create plotting functions "
   ]
  },
  {
   "cell_type": "code",
   "execution_count": 239,
   "metadata": {},
   "outputs": [],
   "source": [
    "def get_sec(time_str):\n",
    "    \"\"\"Get Seconds from time.\"\"\"\n",
    "    h, m, s = time_str.split(':')\n",
    "    return int(h) * 3600 + int(m) * 60 + int(s)\n",
    "\n",
    "def tick(x,pos): \n",
    "    days = [\"Mon\", \"Tue\", \"Wed\", \"Thu\", \"Fri\", \"Sat\", \"Sun\"]\n",
    "    return days[int(x)]  \n",
    "    \n",
    "def hours_to_hhmm( arr ): \n",
    "    out_list = []\n",
    "    for val in arr:\n",
    "        if val< 10:\n",
    "            test = '0' + str(val) +':00'\n",
    "        else:\n",
    "            test = str(val) + ':00'\n",
    "        out_list.append(test)\n",
    "    return( out_list ) \n",
    " \n",
    "def plot_week_tasks( ax_pl, df_week_week, label_dict, bool_legend=False ):\n",
    "    \n",
    "    days_in_week = df_week['date'].unique()\n",
    "    for day in days_in_week : \n",
    "        bool_day = df_week['date'] == day \n",
    "        df_week_temp = df_week[bool_day] \n",
    "\n",
    "        for j,row in df_week_temp.iterrows():\n",
    "            y = get_sec( row['start time'] )\n",
    "            dy =  row['Duration (s)'] \n",
    "            label = row['Label'] \n",
    "#             col_ind = np.where( df_week['Label'].unique() == label )[0][0] \n",
    "#             col_ind_wraparound = np.mod(col_ind , len(cols) )  \n",
    "            \n",
    "            ax_pl.bar( row['date'],dy, bottom = y, color = cols[label_dict[label]] , label = label ) \n",
    " \n",
    "    # set xlim \n",
    "    first_day = pd.to_datetime( days_in_week[0] )\n",
    "    mon_day = first_day - datetime.timedelta( first_day.isocalendar()[2] -0.5 )\n",
    "    sun_day = mon_day + datetime.timedelta( 7)    \n",
    "#     ax_pl.set_xlim([mon_day,sun_day]) \n",
    "    ax_pl.set_xlim( matplotlib.dates.date2num(mon_day)-0.4, matplotlib.dates.date2num(sun_day)+0.4 )\n",
    "\n",
    "    # set u;o, \n",
    "    ax_pl.set_ylim([6*3600,19*3600]) \n",
    "    \n",
    "\n",
    "    # set xaxis ticks and ticklabels\n",
    "    ax_pl.xaxis.set_major_locator(MultipleLocator(1))\n",
    "    daysFmt = DateFormatter(\"%a\")\n",
    "    ax_pl.xaxis.set_major_formatter(daysFmt) \n",
    "    for tick in ax_pl.get_xticklabels():\n",
    "        tick.set_rotation( 45 )\n",
    "        \n",
    "    # set yaxis ticks \n",
    "    ax_pl.invert_yaxis()\n",
    "    hours = np.array([9,12,13,17])\n",
    "    ax_pl.yaxis.set_ticks( hours*3600)\n",
    "    ax_pl.yaxis.set_ticklabels( hours_to_hhmm(hours ) )\n",
    "    ax_pl.yaxis.grid('on')\n",
    " \n",
    "    # remove spines \n",
    "    ax_pl.spines['top'].set_visible(False)\n",
    "    ax_pl.spines['right'].set_visible(False) \n",
    "\n",
    "    if bool_legend:\n",
    "        # set legend \n",
    "        handles, labels = ax_pl.get_legend_handles_labels()\n",
    "        by_label = dict(zip(labels, handles))\n",
    "        ax_pl.legend(by_label.values(), by_label.keys(), loc='center left', bbox_to_anchor=(1, 0.5) )\n",
    "    print(mon_day.date())\n",
    "    \n",
    "    bbox_props = dict(boxstyle=\"round,pad=0.1\", fc=\"w\", ec=\"w\", lw=2, alpha = 0.5)\n",
    "#     ax_pl.test( sun_day,7*3600,mon_day.date(), va='top'  )\n",
    "    ax_pl.annotate( mon_day.date(), (mon_day,7*3600), \n",
    "                   va='top',ha='left' ,\n",
    "                   bbox={'boxstyle':\"round,pad=0.1\", 'fc':\"w\",'ec':'w', 'alpha':0.9})\n",
    "    \n",
    "    dict()\n",
    "     "
   ]
  },
  {
   "cell_type": "code",
   "execution_count": 240,
   "metadata": {},
   "outputs": [
    {
     "name": "stdout",
     "output_type": "stream",
     "text": [
      "2020-03-22\n",
      "2020-03-29\n",
      "2020-04-05\n",
      "2020-04-12\n"
     ]
    },
    {
     "data": {
      "image/png": "[encoded data removed]",
      "text/plain": [
       "<Figure size 720x360 with 4 Axes>"
      ]
     },
     "metadata": {
      "needs_background": "light"
     },
     "output_type": "display_data"
    }
   ],
   "source": [
    "weeks = df['Week'].unique()\n",
    "\n",
    "fig, ax= plt.subplots( int(len(weeks)/2), 2, figsize =(10,5))\n",
    "ax = ax.flat # flatten so iteration is simpler\n",
    "\n",
    "for i, week in enumerate(weeks):  \n",
    "    bool_week = df['Week'] == week\n",
    "    df_week = df[bool_week].copy() \n",
    "    if i == (len(weeks)-1): \n",
    "        plot_week_tasks( ax[i], df_week, label_dict, bool_legend = True)\n",
    "    else: \n",
    "        plot_week_tasks( ax[i], df_week, label_dict )"
   ]
  },
  {
   "cell_type": "markdown",
   "metadata": {},
   "source": [
    "# Plot this week "
   ]
  },
  {
   "cell_type": "code",
   "execution_count": 241,
   "metadata": {},
   "outputs": [
    {
     "name": "stdout",
     "output_type": "stream",
     "text": [
      "2020-04-12\n"
     ]
    },
    {
     "data": {
      "image/png": "[encoded data removed]",
      "text/plain": [
       "<Figure size 360x216 with 1 Axes>"
      ]
     },
     "metadata": {
      "needs_background": "light"
     },
     "output_type": "display_data"
    }
   ],
   "source": [
    "fig, ax = plt.subplots(1, 1, figsize =(5,3))\n",
    "   \n",
    "bool_week = df['Week'] == weeks[-1]\n",
    "df_week = df[bool_week].copy()\n",
    "plot_week_tasks( ax, df_week, label_dict, bool_legend=True) \n",
    " "
   ]
  },
  {
   "cell_type": "code",
   "execution_count": 227,
   "metadata": {},
   "outputs": [
    {
     "data": {
      "text/plain": [
       "{'boxstyle': 'round,pad=0.1', 'fc': 'w', 'ec': 'w', 'lw': 2, 'alpha': 0.5}"
      ]
     },
     "execution_count": 227,
     "metadata": {},
     "output_type": "execute_result"
    }
   ],
   "source": [
    " "
   ]
  },
  {
   "cell_type": "code",
   "execution_count": null,
   "metadata": {},
   "outputs": [],
   "source": []
  }
 ],
 "metadata": {
  "kernelspec": {
   "display_name": "Python 3",
   "language": "python",
   "name": "python3"
  },
  "language_info": {
   "codemirror_mode": {
    "name": "ipython",
    "version": 3
   },
   "file_extension": ".py",
   "mimetype": "text/x-python",
   "name": "python",
   "nbconvert_exporter": "python",
   "pygments_lexer": "ipython3",
   "version": "3.7.1"
  }
 },
 "nbformat": 4,
 "nbformat_minor": 2
}
