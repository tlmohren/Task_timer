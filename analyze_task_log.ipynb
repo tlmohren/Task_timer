{
 "cells": [
  {
   "cell_type": "code",
   "execution_count": 10,
   "metadata": {},
   "outputs": [],
   "source": [
    "import numpy as np\n",
    "import pandas as pd\n",
    "import datetime\n",
    "import glob\n",
    "import os\n",
    " \n",
    "from matplotlib.colors import ListedColormap\n",
    "import matplotlib.pyplot as plt\n",
    "import matplotlib.dates \n",
    "from matplotlib.ticker import MultipleLocator, FuncFormatter, NullFormatter\n",
    "from matplotlib.dates import MonthLocator, WeekdayLocator, DateFormatter\n",
    "\n",
    "import analyze_log_functions as alf"
   ]
  },
  {
   "cell_type": "markdown",
   "metadata": {},
   "source": [
    "# Import data "
   ]
  },
  {
   "cell_type": "code",
   "execution_count": 11,
   "metadata": {
    "scrolled": true
   },
   "outputs": [
    {
     "data": {
      "text/html": [
       "<div>\n",
       "<style scoped>\n",
       "    .dataframe tbody tr th:only-of-type {\n",
       "        vertical-align: middle;\n",
       "    }\n",
       "\n",
       "    .dataframe tbody tr th {\n",
       "        vertical-align: top;\n",
       "    }\n",
       "\n",
       "    .dataframe thead th {\n",
       "        text-align: right;\n",
       "    }\n",
       "</style>\n",
       "<table border=\"1\" class=\"dataframe\">\n",
       "  <thead>\n",
       "    <tr style=\"text-align: right;\">\n",
       "      <th></th>\n",
       "      <th>date</th>\n",
       "      <th>start time</th>\n",
       "      <th>Task</th>\n",
       "      <th>Label</th>\n",
       "      <th>Duration (s)</th>\n",
       "    </tr>\n",
       "  </thead>\n",
       "  <tbody>\n",
       "    <tr>\n",
       "      <th>186</th>\n",
       "      <td>2020/04/19</td>\n",
       "      <td>18:13:21</td>\n",
       "      <td>NaN</td>\n",
       "      <td>Other</td>\n",
       "      <td>0</td>\n",
       "    </tr>\n",
       "    <tr>\n",
       "      <th>187</th>\n",
       "      <td>2020/04/19</td>\n",
       "      <td>18:13:22</td>\n",
       "      <td>NaN</td>\n",
       "      <td>Other</td>\n",
       "      <td>0</td>\n",
       "    </tr>\n",
       "    <tr>\n",
       "      <th>188</th>\n",
       "      <td>2020/04/19</td>\n",
       "      <td>18:13:23</td>\n",
       "      <td>NaN</td>\n",
       "      <td>Other</td>\n",
       "      <td>0</td>\n",
       "    </tr>\n",
       "    <tr>\n",
       "      <th>189</th>\n",
       "      <td>2020/04/19</td>\n",
       "      <td>18:20:16</td>\n",
       "      <td>NaN</td>\n",
       "      <td>Other</td>\n",
       "      <td>2</td>\n",
       "    </tr>\n",
       "    <tr>\n",
       "      <th>190</th>\n",
       "      <td>2020/04/19</td>\n",
       "      <td>18:20:22</td>\n",
       "      <td>NaN</td>\n",
       "      <td>Other</td>\n",
       "      <td>1</td>\n",
       "    </tr>\n",
       "  </tbody>\n",
       "</table>\n",
       "</div>"
      ],
      "text/plain": [
       "           date start time Task  Label  Duration (s)\n",
       "186  2020/04/19   18:13:21  NaN  Other             0\n",
       "187  2020/04/19   18:13:22  NaN  Other             0\n",
       "188  2020/04/19   18:13:23  NaN  Other             0\n",
       "189  2020/04/19   18:20:16  NaN  Other             2\n",
       "190  2020/04/19   18:20:22  NaN  Other             1"
      ]
     },
     "execution_count": 11,
     "metadata": {},
     "output_type": "execute_result"
    }
   ],
   "source": [
    "path = os.path.join( os.getcwd()   , 'log_files\\\\') \n",
    "log_files = glob.glob( path+ '*.csv')  \n",
    "\n",
    "df = pd.DataFrame()\n",
    "for file in log_files :\n",
    "    df_temp = pd.read_csv( file, index_col=None, header=0)  \n",
    "    df = df.append(df_temp ,sort=False)   \n",
    "    \n",
    "df.tail()"
   ]
  },
  {
   "cell_type": "markdown",
   "metadata": {},
   "source": [
    "# Data conversion"
   ]
  },
  {
   "cell_type": "code",
   "execution_count": 12,
   "metadata": {},
   "outputs": [],
   "source": [
    "# remove all items shorter than 60 seconds\n",
    "bool_short_duration = df['Duration (s)'] < 60\n",
    "df = df[~bool_short_duration]\n",
    "\n",
    "df['date'] = pd.to_datetime(df['date'] )  \n",
    "df['Duration (hh:mm:ss)'] = pd.to_timedelta(df['Duration (s)'],'s')\n",
    "df.tail()\n",
    "df['Week'] = df['date'].dt.strftime(\"%V\")"
   ]
  },
  {
   "cell_type": "markdown",
   "metadata": {},
   "source": [
    " # Set plotting parameters"
   ]
  },
  {
   "cell_type": "code",
   "execution_count": 13,
   "metadata": {},
   "outputs": [],
   "source": [
    "# make colorscheme \n",
    "cols = np.array([[166,206,227], \n",
    "[31,120,180], \n",
    "[178,223,138], \n",
    "[51,160,44], \n",
    "[251,154,153], \n",
    "[227,26,28], \n",
    "[253,191,111], \n",
    "[255,127,0], \n",
    "[202,178,214], \n",
    "[106,61,154], \n",
    "[255,255,153]]) /255  \n",
    "\n",
    "labels = df['Label'].unique()     \n",
    "label_dict = {}\n",
    "for label,col in zip(labels,cols): \n",
    "    label_dict[label] = col "
   ]
  },
  {
   "cell_type": "markdown",
   "metadata": {},
   "source": [
    "# Plot tracked time for multiple weeks"
   ]
  },
  {
   "cell_type": "code",
   "execution_count": 14,
   "metadata": {},
   "outputs": [
    {
     "data": {
      "image/png": "[encoded data removed]",
      "text/plain": [
       "<Figure size 720x216 with 2 Axes>"
      ]
     },
     "metadata": {
      "needs_background": "light"
     },
     "output_type": "display_data"
    }
   ],
   "source": [
    "weeks = df['Week'].unique()  \n",
    "\n",
    "fig, ax= plt.subplots( len(weeks), 2, figsize =(10,3),squeeze=False) \n",
    "\n",
    "for i, week in enumerate(weeks):  \n",
    "    bool_week = df['Week'] == week\n",
    "    df_week = df[bool_week].copy() \n",
    "    \n",
    "    # plot left axis\n",
    "    alf.plot_week_tasks( ax[i,0], df_week, label_dict )\n",
    "    alf.plot_time_spent_weekly( ax[i,1], df_week, label_dict )\n",
    "      \n",
    "plt.subplots_adjust(left=None, bottom=.2, right=None, top=None, wspace=.4, hspace=None)"
   ]
  },
  {
   "cell_type": "markdown",
   "metadata": {},
   "source": [
    "# Plot tracked time for a single week"
   ]
  },
  {
   "cell_type": "code",
   "execution_count": 16,
   "metadata": {
    "scrolled": false
   },
   "outputs": [
    {
     "name": "stdout",
     "output_type": "stream",
     "text": [
      "Saving to: figs\\week_analysis.png\n"
     ]
    },
    {
     "data": {
      "image/png": "[encoded data removed]",
      "text/plain": [
       "<Figure size 720x432 with 4 Axes>"
      ]
     },
     "metadata": {
      "needs_background": "light"
     },
     "output_type": "display_data"
    }
   ],
   "source": [
    "bool_week = df['Week'] == weeks[0]\n",
    "df_week = df[bool_week].copy() \n",
    "\n",
    "fig, ax = plt.subplots(2, 2, squeeze=False, figsize =(10,6))\n",
    "\n",
    "# plot 3 subplots\n",
    "alf.plot_week_tasks( ax[0,0], df_week, label_dict ) \n",
    "alf.plot_time_spent_weekly(ax[0,1], df_week, label_dict  )\n",
    "alf.plot_time_spent_daily( ax[1,0], df_week, label_dict  ) \n",
    "alf.plot_week_text(ax[1,1], df_week, \n",
    "                   select_labels=['label1','label2','label3'], selected_text='Time spent on labels [1,2,3]')\n",
    "\n",
    "# adjust layout \n",
    "plt.subplots_adjust(left=None, bottom=None, right=None, top=None, wspace=.4, hspace=None) \n",
    " \n",
    "# save figure\n",
    "fig_fullname = os.path.join( 'figs', 'week_analysis') \n",
    "print('Saving to: ' + fig_fullname + '.png') \n",
    "plt.savefig( fig_fullname+ '.png',\n",
    "        format='png', dpi=300,\n",
    "        transparent=  True,             \n",
    "        bbox_inches = 'tight', pad_inches = 0, \n",
    "           ) "
   ]
  }
 ],
 "metadata": {
  "kernelspec": {
   "display_name": "Python 3",
   "language": "python",
   "name": "python3"
  },
  "language_info": {
   "codemirror_mode": {
    "name": "ipython",
    "version": 3
   },
   "file_extension": ".py",
   "mimetype": "text/x-python",
   "name": "python",
   "nbconvert_exporter": "python",
   "pygments_lexer": "ipython3",
   "version": "3.7.1"
  }
 },
 "nbformat": 4,
 "nbformat_minor": 2
}
